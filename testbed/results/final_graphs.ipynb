{
 "cells": [
  {
   "cell_type": "code",
   "execution_count": 30,
   "metadata": {},
   "outputs": [
    {
     "data": {
      "application/vnd.plotly.v1+json": {
       "config": {
        "plotlyServerURL": "https://plot.ly"
       },
       "data": [
        {
         "box": {
          "visible": true
         },
         "fillcolor": "rgb(141,211,199)",
         "line": {
          "color": "black"
         },
         "meanline": {
          "visible": true
         },
         "name": "Serveo",
         "type": "violin",
         "x": [
          "Serveo",
          "Serveo",
          "Serveo",
          "Serveo",
          "Serveo",
          "Serveo",
          "Serveo",
          "Serveo",
          "Serveo"
         ],
         "y": [
          7902.272,
          4470.173,
          63986.402,
          15812.069,
          23502.72,
          37460.284999999996,
          22136.935,
          5939.442,
          8374.708
         ]
        },
        {
         "box": {
          "visible": true
         },
         "fillcolor": "rgb(255,255,179)",
         "line": {
          "color": "black"
         },
         "meanline": {
          "visible": true
         },
         "name": "Ngtor",
         "type": "violin",
         "x": [
          "Ngtor",
          "Ngtor",
          "Ngtor",
          "Ngtor",
          "Ngtor",
          "Ngtor",
          "Ngtor",
          "Ngtor",
          "Ngtor"
         ],
         "y": [
          80725.19900000001,
          36830.638,
          80994.091,
          80630.376,
          26377.372,
          69199.088,
          91402.09,
          27556.687,
          64452.133
         ]
        },
        {
         "box": {
          "visible": true
         },
         "fillcolor": "rgb(190,186,218)",
         "line": {
          "color": "black"
         },
         "meanline": {
          "visible": true
         },
         "name": "Packetriot",
         "type": "violin",
         "x": [
          "Packetriot",
          "Packetriot",
          "Packetriot",
          "Packetriot",
          "Packetriot",
          "Packetriot",
          "Packetriot",
          "Packetriot",
          "Packetriot"
         ],
         "y": [
          80.18400000000001,
          78.266,
          85.345,
          77.882,
          81.609,
          89.75800000000001,
          82.214,
          85.934,
          75.627
         ]
        },
        {
         "box": {
          "visible": true
         },
         "fillcolor": "rgb(251,128,114)",
         "line": {
          "color": "black"
         },
         "meanline": {
          "visible": true
         },
         "name": "Tunwg",
         "type": "violin",
         "x": [
          "Tunwg",
          "Tunwg",
          "Tunwg",
          "Tunwg",
          "Tunwg",
          "Tunwg",
          "Tunwg",
          "Tunwg",
          "Tunwg"
         ],
         "y": [
          22883.213,
          7319.996,
          17619.108,
          7413.931,
          4356.773999999999,
          8140.777,
          7660.54,
          4025.3370000000004,
          8610.054
         ]
        },
        {
         "box": {
          "visible": true
         },
         "fillcolor": "rgb(128,177,211)",
         "line": {
          "color": "black"
         },
         "meanline": {
          "visible": true
         },
         "name": "Bore",
         "type": "violin",
         "x": [
          "Bore",
          "Bore",
          "Bore",
          "Bore",
          "Bore",
          "Bore",
          "Bore",
          "Bore",
          "Bore"
         ],
         "y": [
          6677.303,
          17576.822,
          32364.635,
          14998.902,
          7633.536,
          13912.427,
          13822.567,
          6542.619000000001,
          68939.26000000001
         ]
        },
        {
         "box": {
          "visible": true
         },
         "fillcolor": "rgb(253,180,98)",
         "line": {
          "color": "black"
         },
         "meanline": {
          "visible": true
         },
         "name": "Openport",
         "type": "violin",
         "x": [
          "Openport",
          "Openport",
          "Openport",
          "Openport",
          "Openport",
          "Openport",
          "Openport",
          "Openport",
          "Openport"
         ],
         "y": [
          3331.0789999999997,
          2700.485,
          2770.2650000000003,
          3237.289,
          9129.039999999999,
          6843.814,
          8818.583999999999,
          2587.518,
          9264.571
         ]
        },
        {
         "box": {
          "visible": true
         },
         "fillcolor": "rgb(179,222,105)",
         "line": {
          "color": "black"
         },
         "meanline": {
          "visible": true
         },
         "name": "Pagekite",
         "type": "violin",
         "x": [
          "Pagekite",
          "Pagekite",
          "Pagekite",
          "Pagekite",
          "Pagekite",
          "Pagekite",
          "Pagekite",
          "Pagekite",
          "Pagekite"
         ],
         "y": [
          11505.143,
          4151.045,
          9859.956,
          10539.05,
          4227.784,
          9816.387,
          11622.794,
          4428.224,
          15322.444000000001
         ]
        },
        {
         "box": {
          "visible": true
         },
         "fillcolor": "rgb(252,205,229)",
         "line": {
          "color": "black"
         },
         "meanline": {
          "visible": true
         },
         "name": "Pinggy",
         "type": "violin",
         "x": [
          "Pinggy",
          "Pinggy",
          "Pinggy",
          "Pinggy",
          "Pinggy",
          "Pinggy",
          "Pinggy",
          "Pinggy",
          "Pinggy"
         ],
         "y": [
          21674.694,
          2354.9519999999998,
          7527.496,
          8861.133,
          4053.8230000000003,
          7892.99,
          9323.284,
          2548.47,
          11292.808
         ]
        },
        {
         "box": {
          "visible": true
         },
         "fillcolor": "rgb(217,217,217)",
         "line": {
          "color": "black"
         },
         "meanline": {
          "visible": true
         },
         "name": "Ngrok",
         "type": "violin",
         "x": [
          "Ngrok",
          "Ngrok",
          "Ngrok",
          "Ngrok",
          "Ngrok",
          "Ngrok",
          "Ngrok",
          "Ngrok",
          "Ngrok"
         ],
         "y": [
          5516.611,
          2239.974,
          5899.505999999999,
          4751.365,
          1344.7150000000001,
          4112.313,
          5117.108,
          2355.2200000000003,
          5104.389
         ]
        },
        {
         "box": {
          "visible": true
         },
         "fillcolor": "rgb(188,128,189)",
         "line": {
          "color": "black"
         },
         "meanline": {
          "visible": true
         },
         "name": "Expose",
         "type": "violin",
         "x": [
          "Expose",
          "Expose",
          "Expose",
          "Expose",
          "Expose",
          "Expose",
          "Expose",
          "Expose",
          "Expose"
         ],
         "y": [
          24444.165999999997,
          5265.682,
          7862.841,
          17112.168,
          3204.286,
          22397.396,
          8700.326000000001,
          5524.006,
          14566.728
         ]
        },
        {
         "box": {
          "visible": true
         },
         "fillcolor": "rgb(204,235,197)",
         "line": {
          "color": "black"
         },
         "meanline": {
          "visible": true
         },
         "name": "Onionpipe",
         "type": "violin",
         "x": [
          "Onionpipe",
          "Onionpipe",
          "Onionpipe",
          "Onionpipe",
          "Onionpipe",
          "Onionpipe",
          "Onionpipe",
          "Onionpipe",
          "Onionpipe"
         ],
         "y": [
          0,
          19834.093,
          27673.397,
          30176.336,
          12148.417,
          30096.539,
          32595.075,
          12630.676,
          29304.085
         ]
        },
        {
         "box": {
          "visible": true
         },
         "fillcolor": "rgb(255,237,111)",
         "line": {
          "color": "black"
         },
         "meanline": {
          "visible": true
         },
         "name": "Zrok",
         "type": "violin",
         "x": [
          "Zrok",
          "Zrok",
          "Zrok",
          "Zrok",
          "Zrok",
          "Zrok",
          "Zrok",
          "Zrok",
          "Zrok"
         ],
         "y": [
          17000.706000000002,
          2250.335,
          16424.942000000003,
          5034.816,
          2345.796,
          15942.552,
          5326.956,
          2052.343,
          4202.411
         ]
        },
        {
         "box": {
          "visible": true
         },
         "fillcolor": "rgb(141,211,199)",
         "line": {
          "color": "black"
         },
         "meanline": {
          "visible": true
         },
         "name": "LocalhostRun",
         "type": "violin",
         "x": [
          "LocalhostRun",
          "LocalhostRun",
          "LocalhostRun",
          "LocalhostRun",
          "LocalhostRun",
          "LocalhostRun",
          "LocalhostRun",
          "LocalhostRun",
          "LocalhostRun"
         ],
         "y": [
          8165.682000000001,
          3890.854,
          14294.860999999999,
          7022.138,
          7037.727,
          12887.071,
          9642.695,
          5487.601,
          8982.331
         ]
        },
        {
         "box": {
          "visible": true
         },
         "fillcolor": "rgb(255,255,179)",
         "line": {
          "color": "black"
         },
         "meanline": {
          "visible": true
         },
         "name": "Cloudflared",
         "type": "violin",
         "x": [
          "Cloudflared",
          "Cloudflared",
          "Cloudflared",
          "Cloudflared",
          "Cloudflared",
          "Cloudflared",
          "Cloudflared",
          "Cloudflared",
          "Cloudflared"
         ],
         "y": [
          2553.734,
          1690.809,
          3229.517,
          2494.4809999999998,
          1294.7830000000001,
          2902.085,
          3830.923,
          2126.31,
          3289.0060000000003
         ]
        },
        {
         "box": {
          "visible": true
         },
         "fillcolor": "rgb(190,186,218)",
         "line": {
          "color": "black"
         },
         "meanline": {
          "visible": true
         },
         "name": "Beeceptor",
         "type": "violin",
         "x": [
          "Beeceptor",
          "Beeceptor",
          "Beeceptor",
          "Beeceptor",
          "Beeceptor",
          "Beeceptor",
          "Beeceptor",
          "Beeceptor",
          "Beeceptor"
         ],
         "y": [
          8464.048999999999,
          7535.4039999999995,
          16999.36,
          9981.438,
          5299.936,
          11988.511,
          13469.228,
          8926.452,
          8720.127
         ]
        },
        {
         "box": {
          "visible": true
         },
         "fillcolor": "rgb(251,128,114)",
         "line": {
          "color": "black"
         },
         "meanline": {
          "visible": true
         },
         "name": "DevTunnel",
         "type": "violin",
         "x": [
          "DevTunnel",
          "DevTunnel",
          "DevTunnel",
          "DevTunnel",
          "DevTunnel",
          "DevTunnel",
          "DevTunnel",
          "DevTunnel",
          "DevTunnel"
         ],
         "y": [
          133.407,
          148.43200000000002,
          148.52599999999998,
          132.762,
          121.753,
          125.164,
          138.633,
          311.171,
          121.30000000000001
         ]
        }
       ],
       "layout": {
        "showlegend": false,
        "template": {
         "data": {
          "bar": [
           {
            "error_x": {
             "color": "#2a3f5f"
            },
            "error_y": {
             "color": "#2a3f5f"
            },
            "marker": {
             "line": {
              "color": "#E5ECF6",
              "width": 0.5
             },
             "pattern": {
              "fillmode": "overlay",
              "size": 10,
              "solidity": 0.2
             }
            },
            "type": "bar"
           }
          ],
          "barpolar": [
           {
            "marker": {
             "line": {
              "color": "#E5ECF6",
              "width": 0.5
             },
             "pattern": {
              "fillmode": "overlay",
              "size": 10,
              "solidity": 0.2
             }
            },
            "type": "barpolar"
           }
          ],
          "carpet": [
           {
            "aaxis": {
             "endlinecolor": "#2a3f5f",
             "gridcolor": "white",
             "linecolor": "white",
             "minorgridcolor": "white",
             "startlinecolor": "#2a3f5f"
            },
            "baxis": {
             "endlinecolor": "#2a3f5f",
             "gridcolor": "white",
             "linecolor": "white",
             "minorgridcolor": "white",
             "startlinecolor": "#2a3f5f"
            },
            "type": "carpet"
           }
          ],
          "choropleth": [
           {
            "colorbar": {
             "outlinewidth": 0,
             "ticks": ""
            },
            "type": "choropleth"
           }
          ],
          "contour": [
           {
            "colorbar": {
             "outlinewidth": 0,
             "ticks": ""
            },
            "colorscale": [
             [
              0,
              "#0d0887"
             ],
             [
              0.1111111111111111,
              "#46039f"
             ],
             [
              0.2222222222222222,
              "#7201a8"
             ],
             [
              0.3333333333333333,
              "#9c179e"
             ],
             [
              0.4444444444444444,
              "#bd3786"
             ],
             [
              0.5555555555555556,
              "#d8576b"
             ],
             [
              0.6666666666666666,
              "#ed7953"
             ],
             [
              0.7777777777777778,
              "#fb9f3a"
             ],
             [
              0.8888888888888888,
              "#fdca26"
             ],
             [
              1,
              "#f0f921"
             ]
            ],
            "type": "contour"
           }
          ],
          "contourcarpet": [
           {
            "colorbar": {
             "outlinewidth": 0,
             "ticks": ""
            },
            "type": "contourcarpet"
           }
          ],
          "heatmap": [
           {
            "colorbar": {
             "outlinewidth": 0,
             "ticks": ""
            },
            "colorscale": [
             [
              0,
              "#0d0887"
             ],
             [
              0.1111111111111111,
              "#46039f"
             ],
             [
              0.2222222222222222,
              "#7201a8"
             ],
             [
              0.3333333333333333,
              "#9c179e"
             ],
             [
              0.4444444444444444,
              "#bd3786"
             ],
             [
              0.5555555555555556,
              "#d8576b"
             ],
             [
              0.6666666666666666,
              "#ed7953"
             ],
             [
              0.7777777777777778,
              "#fb9f3a"
             ],
             [
              0.8888888888888888,
              "#fdca26"
             ],
             [
              1,
              "#f0f921"
             ]
            ],
            "type": "heatmap"
           }
          ],
          "heatmapgl": [
           {
            "colorbar": {
             "outlinewidth": 0,
             "ticks": ""
            },
            "colorscale": [
             [
              0,
              "#0d0887"
             ],
             [
              0.1111111111111111,
              "#46039f"
             ],
             [
              0.2222222222222222,
              "#7201a8"
             ],
             [
              0.3333333333333333,
              "#9c179e"
             ],
             [
              0.4444444444444444,
              "#bd3786"
             ],
             [
              0.5555555555555556,
              "#d8576b"
             ],
             [
              0.6666666666666666,
              "#ed7953"
             ],
             [
              0.7777777777777778,
              "#fb9f3a"
             ],
             [
              0.8888888888888888,
              "#fdca26"
             ],
             [
              1,
              "#f0f921"
             ]
            ],
            "type": "heatmapgl"
           }
          ],
          "histogram": [
           {
            "marker": {
             "pattern": {
              "fillmode": "overlay",
              "size": 10,
              "solidity": 0.2
             }
            },
            "type": "histogram"
           }
          ],
          "histogram2d": [
           {
            "colorbar": {
             "outlinewidth": 0,
             "ticks": ""
            },
            "colorscale": [
             [
              0,
              "#0d0887"
             ],
             [
              0.1111111111111111,
              "#46039f"
             ],
             [
              0.2222222222222222,
              "#7201a8"
             ],
             [
              0.3333333333333333,
              "#9c179e"
             ],
             [
              0.4444444444444444,
              "#bd3786"
             ],
             [
              0.5555555555555556,
              "#d8576b"
             ],
             [
              0.6666666666666666,
              "#ed7953"
             ],
             [
              0.7777777777777778,
              "#fb9f3a"
             ],
             [
              0.8888888888888888,
              "#fdca26"
             ],
             [
              1,
              "#f0f921"
             ]
            ],
            "type": "histogram2d"
           }
          ],
          "histogram2dcontour": [
           {
            "colorbar": {
             "outlinewidth": 0,
             "ticks": ""
            },
            "colorscale": [
             [
              0,
              "#0d0887"
             ],
             [
              0.1111111111111111,
              "#46039f"
             ],
             [
              0.2222222222222222,
              "#7201a8"
             ],
             [
              0.3333333333333333,
              "#9c179e"
             ],
             [
              0.4444444444444444,
              "#bd3786"
             ],
             [
              0.5555555555555556,
              "#d8576b"
             ],
             [
              0.6666666666666666,
              "#ed7953"
             ],
             [
              0.7777777777777778,
              "#fb9f3a"
             ],
             [
              0.8888888888888888,
              "#fdca26"
             ],
             [
              1,
              "#f0f921"
             ]
            ],
            "type": "histogram2dcontour"
           }
          ],
          "mesh3d": [
           {
            "colorbar": {
             "outlinewidth": 0,
             "ticks": ""
            },
            "type": "mesh3d"
           }
          ],
          "parcoords": [
           {
            "line": {
             "colorbar": {
              "outlinewidth": 0,
              "ticks": ""
             }
            },
            "type": "parcoords"
           }
          ],
          "pie": [
           {
            "automargin": true,
            "type": "pie"
           }
          ],
          "scatter": [
           {
            "fillpattern": {
             "fillmode": "overlay",
             "size": 10,
             "solidity": 0.2
            },
            "type": "scatter"
           }
          ],
          "scatter3d": [
           {
            "line": {
             "colorbar": {
              "outlinewidth": 0,
              "ticks": ""
             }
            },
            "marker": {
             "colorbar": {
              "outlinewidth": 0,
              "ticks": ""
             }
            },
            "type": "scatter3d"
           }
          ],
          "scattercarpet": [
           {
            "marker": {
             "colorbar": {
              "outlinewidth": 0,
              "ticks": ""
             }
            },
            "type": "scattercarpet"
           }
          ],
          "scattergeo": [
           {
            "marker": {
             "colorbar": {
              "outlinewidth": 0,
              "ticks": ""
             }
            },
            "type": "scattergeo"
           }
          ],
          "scattergl": [
           {
            "marker": {
             "colorbar": {
              "outlinewidth": 0,
              "ticks": ""
             }
            },
            "type": "scattergl"
           }
          ],
          "scattermapbox": [
           {
            "marker": {
             "colorbar": {
              "outlinewidth": 0,
              "ticks": ""
             }
            },
            "type": "scattermapbox"
           }
          ],
          "scatterpolar": [
           {
            "marker": {
             "colorbar": {
              "outlinewidth": 0,
              "ticks": ""
             }
            },
            "type": "scatterpolar"
           }
          ],
          "scatterpolargl": [
           {
            "marker": {
             "colorbar": {
              "outlinewidth": 0,
              "ticks": ""
             }
            },
            "type": "scatterpolargl"
           }
          ],
          "scatterternary": [
           {
            "marker": {
             "colorbar": {
              "outlinewidth": 0,
              "ticks": ""
             }
            },
            "type": "scatterternary"
           }
          ],
          "surface": [
           {
            "colorbar": {
             "outlinewidth": 0,
             "ticks": ""
            },
            "colorscale": [
             [
              0,
              "#0d0887"
             ],
             [
              0.1111111111111111,
              "#46039f"
             ],
             [
              0.2222222222222222,
              "#7201a8"
             ],
             [
              0.3333333333333333,
              "#9c179e"
             ],
             [
              0.4444444444444444,
              "#bd3786"
             ],
             [
              0.5555555555555556,
              "#d8576b"
             ],
             [
              0.6666666666666666,
              "#ed7953"
             ],
             [
              0.7777777777777778,
              "#fb9f3a"
             ],
             [
              0.8888888888888888,
              "#fdca26"
             ],
             [
              1,
              "#f0f921"
             ]
            ],
            "type": "surface"
           }
          ],
          "table": [
           {
            "cells": {
             "fill": {
              "color": "#EBF0F8"
             },
             "line": {
              "color": "white"
             }
            },
            "header": {
             "fill": {
              "color": "#C8D4E3"
             },
             "line": {
              "color": "white"
             }
            },
            "type": "table"
           }
          ]
         },
         "layout": {
          "annotationdefaults": {
           "arrowcolor": "#2a3f5f",
           "arrowhead": 0,
           "arrowwidth": 1
          },
          "autotypenumbers": "strict",
          "coloraxis": {
           "colorbar": {
            "outlinewidth": 0,
            "ticks": ""
           }
          },
          "colorscale": {
           "diverging": [
            [
             0,
             "#8e0152"
            ],
            [
             0.1,
             "#c51b7d"
            ],
            [
             0.2,
             "#de77ae"
            ],
            [
             0.3,
             "#f1b6da"
            ],
            [
             0.4,
             "#fde0ef"
            ],
            [
             0.5,
             "#f7f7f7"
            ],
            [
             0.6,
             "#e6f5d0"
            ],
            [
             0.7,
             "#b8e186"
            ],
            [
             0.8,
             "#7fbc41"
            ],
            [
             0.9,
             "#4d9221"
            ],
            [
             1,
             "#276419"
            ]
           ],
           "sequential": [
            [
             0,
             "#0d0887"
            ],
            [
             0.1111111111111111,
             "#46039f"
            ],
            [
             0.2222222222222222,
             "#7201a8"
            ],
            [
             0.3333333333333333,
             "#9c179e"
            ],
            [
             0.4444444444444444,
             "#bd3786"
            ],
            [
             0.5555555555555556,
             "#d8576b"
            ],
            [
             0.6666666666666666,
             "#ed7953"
            ],
            [
             0.7777777777777778,
             "#fb9f3a"
            ],
            [
             0.8888888888888888,
             "#fdca26"
            ],
            [
             1,
             "#f0f921"
            ]
           ],
           "sequentialminus": [
            [
             0,
             "#0d0887"
            ],
            [
             0.1111111111111111,
             "#46039f"
            ],
            [
             0.2222222222222222,
             "#7201a8"
            ],
            [
             0.3333333333333333,
             "#9c179e"
            ],
            [
             0.4444444444444444,
             "#bd3786"
            ],
            [
             0.5555555555555556,
             "#d8576b"
            ],
            [
             0.6666666666666666,
             "#ed7953"
            ],
            [
             0.7777777777777778,
             "#fb9f3a"
            ],
            [
             0.8888888888888888,
             "#fdca26"
            ],
            [
             1,
             "#f0f921"
            ]
           ]
          },
          "colorway": [
           "#636efa",
           "#EF553B",
           "#00cc96",
           "#ab63fa",
           "#FFA15A",
           "#19d3f3",
           "#FF6692",
           "#B6E880",
           "#FF97FF",
           "#FECB52"
          ],
          "font": {
           "color": "#2a3f5f"
          },
          "geo": {
           "bgcolor": "white",
           "lakecolor": "white",
           "landcolor": "#E5ECF6",
           "showlakes": true,
           "showland": true,
           "subunitcolor": "white"
          },
          "hoverlabel": {
           "align": "left"
          },
          "hovermode": "closest",
          "mapbox": {
           "style": "light"
          },
          "paper_bgcolor": "white",
          "plot_bgcolor": "#E5ECF6",
          "polar": {
           "angularaxis": {
            "gridcolor": "white",
            "linecolor": "white",
            "ticks": ""
           },
           "bgcolor": "#E5ECF6",
           "radialaxis": {
            "gridcolor": "white",
            "linecolor": "white",
            "ticks": ""
           }
          },
          "scene": {
           "xaxis": {
            "backgroundcolor": "#E5ECF6",
            "gridcolor": "white",
            "gridwidth": 2,
            "linecolor": "white",
            "showbackground": true,
            "ticks": "",
            "zerolinecolor": "white"
           },
           "yaxis": {
            "backgroundcolor": "#E5ECF6",
            "gridcolor": "white",
            "gridwidth": 2,
            "linecolor": "white",
            "showbackground": true,
            "ticks": "",
            "zerolinecolor": "white"
           },
           "zaxis": {
            "backgroundcolor": "#E5ECF6",
            "gridcolor": "white",
            "gridwidth": 2,
            "linecolor": "white",
            "showbackground": true,
            "ticks": "",
            "zerolinecolor": "white"
           }
          },
          "shapedefaults": {
           "line": {
            "color": "#2a3f5f"
           }
          },
          "ternary": {
           "aaxis": {
            "gridcolor": "white",
            "linecolor": "white",
            "ticks": ""
           },
           "baxis": {
            "gridcolor": "white",
            "linecolor": "white",
            "ticks": ""
           },
           "bgcolor": "#E5ECF6",
           "caxis": {
            "gridcolor": "white",
            "linecolor": "white",
            "ticks": ""
           }
          },
          "title": {
           "x": 0.05
          },
          "xaxis": {
           "automargin": true,
           "gridcolor": "white",
           "linecolor": "white",
           "ticks": "",
           "title": {
            "standoff": 15
           },
           "zerolinecolor": "white",
           "zerolinewidth": 2
          },
          "yaxis": {
           "automargin": true,
           "gridcolor": "white",
           "linecolor": "white",
           "ticks": "",
           "title": {
            "standoff": 15
           },
           "zerolinecolor": "white",
           "zerolinewidth": 2
          }
         }
        },
        "title": {
         "text": "Distribution of totalTransferTime by Tool"
        },
        "xaxis": {
         "title": {
          "text": "Tool"
         }
        },
        "yaxis": {
         "title": {
          "text": "totalTransferTime"
         }
        }
       }
      }
     },
     "metadata": {},
     "output_type": "display_data"
    },
    {
     "ename": "IndexError",
     "evalue": "list index out of range",
     "output_type": "error",
     "traceback": [
      "\u001b[0;31m---------------------------------------------------------------------------\u001b[0m",
      "\u001b[0;31mIndexError\u001b[0m                                Traceback (most recent call last)",
      "Cell \u001b[0;32mIn[30], line 303\u001b[0m\n\u001b[1;32m    300\u001b[0m violin_fig\u001b[38;5;241m.\u001b[39mshow()\n\u001b[1;32m    302\u001b[0m \u001b[38;5;66;03m# CDF plot for 'downloadSpeed'\u001b[39;00m\n\u001b[0;32m--> 303\u001b[0m cdf_fig \u001b[38;5;241m=\u001b[39m \u001b[43mvisualizer\u001b[49m\u001b[38;5;241;43m.\u001b[39;49m\u001b[43mcdf_plot\u001b[49m\u001b[43m(\u001b[49m\u001b[38;5;124;43m'\u001b[39;49m\u001b[38;5;124;43mdownloadSpeed\u001b[39;49m\u001b[38;5;124;43m'\u001b[39;49m\u001b[43m)\u001b[49m\n\u001b[1;32m    304\u001b[0m cdf_fig\u001b[38;5;241m.\u001b[39mshow()\n\u001b[1;32m    306\u001b[0m \u001b[38;5;66;03m# Scatter plot with trendline for 'downloadSpeed' vs 'fileSize'\u001b[39;00m\n",
      "Cell \u001b[0;32mIn[30], line 95\u001b[0m, in \u001b[0;36mNetworkAnalysisVisualizer.cdf_plot\u001b[0;34m(self, metric, filter_mode)\u001b[0m\n\u001b[1;32m     88\u001b[0m     tool_data \u001b[38;5;241m=\u001b[39m df[df[\u001b[38;5;124m'\u001b[39m\u001b[38;5;124mtool\u001b[39m\u001b[38;5;124m'\u001b[39m] \u001b[38;5;241m==\u001b[39m tool][metric]\u001b[38;5;241m.\u001b[39msort_values()\n\u001b[1;32m     89\u001b[0m     cum_prob \u001b[38;5;241m=\u001b[39m np\u001b[38;5;241m.\u001b[39mlinspace(\u001b[38;5;241m0\u001b[39m, \u001b[38;5;241m1\u001b[39m, \u001b[38;5;28mlen\u001b[39m(tool_data))\n\u001b[1;32m     91\u001b[0m     fig\u001b[38;5;241m.\u001b[39madd_trace(go\u001b[38;5;241m.\u001b[39mScatter(\n\u001b[1;32m     92\u001b[0m         x\u001b[38;5;241m=\u001b[39mtool_data,\n\u001b[1;32m     93\u001b[0m         y\u001b[38;5;241m=\u001b[39mcum_prob,\n\u001b[1;32m     94\u001b[0m         name\u001b[38;5;241m=\u001b[39mtool,\n\u001b[0;32m---> 95\u001b[0m         line\u001b[38;5;241m=\u001b[39m\u001b[38;5;28mdict\u001b[39m(color\u001b[38;5;241m=\u001b[39m\u001b[38;5;28;43mself\u001b[39;49m\u001b[38;5;241;43m.\u001b[39;49m\u001b[43mcolors\u001b[49m\u001b[43m[\u001b[49m\u001b[43midx\u001b[49m\u001b[43m]\u001b[49m)\n\u001b[1;32m     96\u001b[0m     ))\n\u001b[1;32m     98\u001b[0m fig\u001b[38;5;241m.\u001b[39mupdate_layout(\n\u001b[1;32m     99\u001b[0m     title\u001b[38;5;241m=\u001b[39m\u001b[38;5;124mf\u001b[39m\u001b[38;5;124m'\u001b[39m\u001b[38;5;124mCumulative Distribution Function of \u001b[39m\u001b[38;5;132;01m{\u001b[39;00mmetric\u001b[38;5;132;01m}\u001b[39;00m\u001b[38;5;124m'\u001b[39m,\n\u001b[1;32m    100\u001b[0m     xaxis_title\u001b[38;5;241m=\u001b[39mmetric,\n\u001b[1;32m    101\u001b[0m     yaxis_title\u001b[38;5;241m=\u001b[39m\u001b[38;5;124m'\u001b[39m\u001b[38;5;124mCumulative Probability\u001b[39m\u001b[38;5;124m'\u001b[39m,\n\u001b[1;32m    102\u001b[0m     showlegend\u001b[38;5;241m=\u001b[39m\u001b[38;5;28;01mTrue\u001b[39;00m\n\u001b[1;32m    103\u001b[0m )\n\u001b[1;32m    104\u001b[0m \u001b[38;5;28;01mreturn\u001b[39;00m fig\n",
      "\u001b[0;31mIndexError\u001b[0m: list index out of range"
     ]
    }
   ],
   "source": [
    "import pandas as pd\n",
    "import numpy as np\n",
    "import plotly.express as px\n",
    "import plotly.graph_objects as go\n",
    "import plotly.figure_factory as ff\n",
    "from plotly.subplots import make_subplots\n",
    "import seaborn as sns\n",
    "import matplotlib.pyplot as plt\n",
    "from scipy import stats\n",
    "from typing import List, Dict, Any\n",
    "import json\n",
    "\n",
    "class NetworkAnalysisVisualizer:\n",
    "    def __init__(self):\n",
    "        self.data = {}\n",
    "        self.metrics = [\n",
    "            'totalTransferTime', 'downloadSpeed', 'dnsLookup',\n",
    "            'tcpConnection', 'tlsHandshake', 'timeToFirstByte'\n",
    "        ]\n",
    "        self.colors = px.colors.qualitative.Set3\n",
    "\n",
    "    def load_data(self, file_paths: List[str]) -> None:\n",
    "        \"\"\"Load data from multiple JSON files.\"\"\"\n",
    "        for file_path in file_paths:\n",
    "            with open(file_path, 'r') as f:\n",
    "                data = json.load(f)\n",
    "                tool_name = data[0].get('toolName', file_path.split('/')[-1].replace('.json', ''))\n",
    "                self.data[tool_name] = data\n",
    "\n",
    "    def _prepare_transfer_df(self, filter_mode='all') -> pd.DataFrame:\n",
    "        \"\"\"Convert nested JSON data to flat DataFrame.\"\"\"\n",
    "        rows = []\n",
    "        for tool, measurements in self.data.items():\n",
    "            for measurement in measurements:\n",
    "                for transfer in measurement['fileTransfers']:\n",
    "                    if filter_mode == 'success' and not (transfer['transferSuccess'] and \n",
    "                                                       transfer['hashMatch'] and \n",
    "                                                       transfer['sizeMatch']):\n",
    "                        continue\n",
    "                    if filter_mode == 'partial' and not (transfer['transferSuccess'] and \n",
    "                                                       (not transfer['hashMatch'] or \n",
    "                                                        not transfer['sizeMatch'])):\n",
    "                        continue\n",
    "                    if filter_mode == 'failure' and transfer['transferSuccess']:\n",
    "                        continue\n",
    "                    \n",
    "                    row = {\n",
    "                        'tool': tool,\n",
    "                        'fileSize': transfer.get('fileSize', 0),\n",
    "                        **{metric: transfer.get(metric, 0) for metric in self.metrics}\n",
    "                    }\n",
    "                    rows.append(row)\n",
    "        \n",
    "        return pd.DataFrame(rows)\n",
    "\n",
    "    def violin_plot(self, metric: str, filter_mode='all') -> go.Figure:\n",
    "        \"\"\"Create violin plot for timing distribution.\"\"\"\n",
    "        df = self._prepare_transfer_df(filter_mode)\n",
    "        fig = go.Figure()\n",
    "        \n",
    "        num_colors = len(self.colors)\n",
    "        \n",
    "        for idx, tool in enumerate(df['tool'].unique()):\n",
    "            tool_data = df[df['tool'] == tool][metric]\n",
    "            fig.add_trace(go.Violin(\n",
    "                x=[tool] * len(tool_data),\n",
    "                y=tool_data,\n",
    "                name=tool,\n",
    "                box_visible=True,\n",
    "                meanline_visible=True,\n",
    "                fillcolor=self.colors[idx % num_colors],  # Cycle through colors\n",
    "                line_color='black'\n",
    "            ))\n",
    "        \n",
    "        fig.update_layout(\n",
    "            title=f'Distribution of {metric} by Tool',\n",
    "            xaxis_title='Tool',\n",
    "            yaxis_title=metric,\n",
    "            showlegend=False\n",
    "        )\n",
    "        return fig\n",
    "    def cdf_plot(self, metric: str, filter_mode='all') -> go.Figure:\n",
    "        \"\"\"Create CDF plot for timing/latency analysis.\"\"\"\n",
    "        df = self._prepare_transfer_df(filter_mode)\n",
    "        fig = go.Figure()\n",
    "        \n",
    "        for idx, tool in enumerate(df['tool'].unique()):\n",
    "            tool_data = df[df['tool'] == tool][metric].sort_values()\n",
    "            cum_prob = np.linspace(0, 1, len(tool_data))\n",
    "            \n",
    "            fig.add_trace(go.Scatter(\n",
    "                x=tool_data,\n",
    "                y=cum_prob,\n",
    "                name=tool,\n",
    "                line=dict(color=self.colors[idx])\n",
    "            ))\n",
    "        \n",
    "        fig.update_layout(\n",
    "            title=f'Cumulative Distribution Function of {metric}',\n",
    "            xaxis_title=metric,\n",
    "            yaxis_title='Cumulative Probability',\n",
    "            showlegend=True\n",
    "        )\n",
    "        return fig\n",
    "\n",
    "    def scatter_with_trendline(self, y_metric: str, filter_mode='all') -> go.Figure:\n",
    "        \"\"\"Create scatter plot with trendlines for file size vs. metric.\"\"\"\n",
    "        df = self._prepare_transfer_df(filter_mode)\n",
    "        fig = go.Figure()\n",
    "        \n",
    "        for idx, tool in enumerate(df['tool'].unique()):\n",
    "            tool_df = df[df['tool'] == tool]\n",
    "            \n",
    "            # Add scatter points\n",
    "            fig.add_trace(go.Scatter(\n",
    "                x=tool_df['fileSize'],\n",
    "                y=tool_df[y_metric],\n",
    "                mode='markers',\n",
    "                name=f'{tool} (data)',\n",
    "                marker=dict(color=self.colors[idx])\n",
    "            ))\n",
    "            \n",
    "            # Add trendline\n",
    "            z = np.polyfit(tool_df['fileSize'], tool_df[y_metric], 1)\n",
    "            p = np.poly1d(z)\n",
    "            x_range = np.linspace(tool_df['fileSize'].min(), tool_df['fileSize'].max(), 100)\n",
    "            \n",
    "            fig.add_trace(go.Scatter(\n",
    "                x=x_range,\n",
    "                y=p(x_range),\n",
    "                mode='lines',\n",
    "                name=f'{tool} (trend)',\n",
    "                line=dict(color=self.colors[idx], dash='dash')\n",
    "            ))\n",
    "        \n",
    "        fig.update_layout(\n",
    "            title=f'File Size vs {y_metric}',\n",
    "            xaxis_title='File Size (bytes)',\n",
    "            yaxis_title=y_metric,\n",
    "            showlegend=True\n",
    "        )\n",
    "        return fig\n",
    "\n",
    "    def box_plot_transfer_time(self, filter_mode='all') -> go.Figure:\n",
    "        \"\"\"Create box plots for transfer time for each individual measurement per tool.\"\"\"\n",
    "        df = self._prepare_transfer_df(filter_mode)\n",
    "        \n",
    "        fig = go.Figure()\n",
    "        \n",
    "        for idx, tool in enumerate(df['tool'].unique()):\n",
    "            tool_df = df[df['tool'] == tool]\n",
    "            \n",
    "            fig.add_trace(go.Box(\n",
    "                x=tool_df['measurementNumber'],\n",
    "                y=tool_df['totalTransferTime'],\n",
    "                name=tool,\n",
    "                marker_color=self.colors[idx]\n",
    "            ))\n",
    "        \n",
    "        fig.update_layout(\n",
    "            title='Transfer Time Distribution by Measurement and Tool',\n",
    "            xaxis_title='Measurement Number',\n",
    "            yaxis_title='Transfer Time (ms)',\n",
    "            boxmode='group'\n",
    "        )\n",
    "        return fig\n",
    "\n",
    "\n",
    "    def box_plot_by_size(self, metric: str, size_bins=5, filter_mode='all') -> go.Figure:\n",
    "        \"\"\"Create box plots grouped by file size bins.\"\"\"\n",
    "        df = self._prepare_transfer_df(filter_mode)\n",
    "        df['size_group'] = pd.qcut(df['fileSize'], q=size_bins, labels=[f'Q{i+1}' for i in range(size_bins)])\n",
    "        \n",
    "        fig = go.Figure()\n",
    "        \n",
    "        for idx, tool in enumerate(df['tool'].unique()):\n",
    "            tool_df = df[df['tool'] == tool]\n",
    "            \n",
    "            fig.add_trace(go.Box(\n",
    "                x=tool_df['size_group'],\n",
    "                y=tool_df[metric],\n",
    "                name=tool,\n",
    "                marker_color=self.colors[idx]\n",
    "            ))\n",
    "        \n",
    "        fig.update_layout(\n",
    "            title=f'{metric} Distribution by File Size Quantiles',\n",
    "            xaxis_title='File Size Group',\n",
    "            yaxis_title=metric,\n",
    "            boxmode='group'\n",
    "        )\n",
    "        return fig\n",
    "\n",
    "    def stacked_time_components(self, filter_mode='all') -> go.Figure:\n",
    "        \"\"\"Create stacked bar chart for time component breakdown.\"\"\"\n",
    "        df = self._prepare_transfer_df(filter_mode)\n",
    "        time_components = ['dnsLookup', 'tcpConnection', 'tlsHandshake', 'timeToFirstByte']\n",
    "        \n",
    "        fig = go.Figure()\n",
    "        \n",
    "        for idx, component in enumerate(time_components):\n",
    "            fig.add_trace(go.Bar(\n",
    "                name=component,\n",
    "                x=df['tool'].unique(),\n",
    "                y=[df[df['tool'] == tool][component].mean() for tool in df['tool'].unique()],\n",
    "                marker_color=self.colors[idx]\n",
    "            ))\n",
    "        \n",
    "        fig.update_layout(\n",
    "            title='Average Time Components by Tool',\n",
    "            xaxis_title='Tool',\n",
    "            yaxis_title='Time (ms)',\n",
    "            barmode='stack'\n",
    "        )\n",
    "        return fig\n",
    "\n",
    "    def success_rate_heatmap(self) -> go.Figure:\n",
    "        \"\"\"Create heatmap of success rates by file size and tool.\"\"\"\n",
    "        df = self._prepare_transfer_df('all')\n",
    "        df['size_group'] = pd.qcut(df['fileSize'], q=5, labels=['Very Small', 'Small', 'Medium', 'Large', 'Very Large'])\n",
    "        \n",
    "        success_matrix = pd.pivot_table(\n",
    "            df,\n",
    "            values='transferSuccess',\n",
    "            index='tool',\n",
    "            columns='size_group',\n",
    "            aggfunc='mean'\n",
    "        )\n",
    "        \n",
    "        fig = go.Figure(data=go.Heatmap(\n",
    "            z=success_matrix.values,\n",
    "            x=success_matrix.columns,\n",
    "            y=success_matrix.index,\n",
    "            colorscale='RdYlGn',\n",
    "            text=np.round(success_matrix.values * 100, 1),\n",
    "            texttemplate='%{text}%',\n",
    "            textfont={\"size\": 10},\n",
    "            hoverongaps=False\n",
    "        ))\n",
    "        \n",
    "        fig.update_layout(\n",
    "            title='Transfer Success Rate by Tool and File Size',\n",
    "            xaxis_title='File Size Group',\n",
    "            yaxis_title='Tool'\n",
    "        )\n",
    "        return fig\n",
    "\n",
    "    def error_breakdown(self) -> go.Figure:\n",
    "        \"\"\"Create bar chart for error counts by stage and tool.\"\"\"\n",
    "        df = self._prepare_transfer_df('all')\n",
    "        error_types = ['tunnelError', 'diagnosticsError', 'measurementError', 'cleanupError']\n",
    "        \n",
    "        fig = go.Figure()\n",
    "        \n",
    "        for idx, error_type in enumerate(error_types):\n",
    "            fig.add_trace(go.Bar(\n",
    "                name=error_type,\n",
    "                x=df['tool'].unique(),\n",
    "                y=[df[df['tool'] == tool][error_type].sum() for tool in df['tool'].unique()],\n",
    "                marker_color=self.colors[idx]\n",
    "            ))\n",
    "        \n",
    "        fig.update_layout(\n",
    "            title='Error Counts by Stage and Tool',\n",
    "            xaxis_title='Tool',\n",
    "            yaxis_title='Error Count',\n",
    "            barmode='group'\n",
    "        )\n",
    "        return fig\n",
    "\n",
    "# Import necessary libraries\n",
    "import os\n",
    "import json\n",
    "import pandas as pd\n",
    "import numpy as np\n",
    "import plotly.express as px\n",
    "import plotly.graph_objects as go\n",
    "from typing import List\n",
    "\n",
    "# Initialize the visualizer\n",
    "visualizer = NetworkAnalysisVisualizer()\n",
    "\n",
    "# Function to load JSON files from a specified directory and load into the visualizer\n",
    "def load_all_json_from_directory(directory_path: str) -> None:\n",
    "    \"\"\"Load all JSON files from the specified directory and load them into the visualizer.\"\"\"\n",
    "    file_paths = [os.path.join(directory_path, f) for f in os.listdir(directory_path) if f.endswith('.json')]\n",
    "    visualizer.load_data(file_paths)\n",
    "\n",
    "# Specify the directory containing JSON files\n",
    "directory_path = './all-graphed'  # Change this to your actual directory path\n",
    "\n",
    "# Load the data\n",
    "load_all_json_from_directory(directory_path)\n",
    "\n",
    "# Generate and display example visualizations\n",
    "# You can comment/uncomment the figures you wish to generate\n",
    "\n",
    "# Violin plot for 'totalTransferTime'\n",
    "violin_fig = visualizer.violin_plot('totalTransferTime')\n",
    "violin_fig.show()\n",
    "\n",
    "# CDF plot for 'downloadSpeed'\n",
    "cdf_fig = visualizer.cdf_plot('downloadSpeed')\n",
    "cdf_fig.show()\n",
    "\n",
    "# Scatter plot with trendline for 'downloadSpeed' vs 'fileSize'\n",
    "scatter_fig = visualizer.scatter_with_trendline('downloadSpeed')\n",
    "scatter_fig.show()\n",
    "\n",
    "# Box plot by file size bins for 'dnsLookup'\n",
    "# box_fig = visualizer.box_plot_by_size('dnsLookup')\n",
    "# box_fig.show()\n",
    "\n",
    "# Stacked time components bar chart\n",
    "stacked_fig = visualizer.stacked_time_components()\n",
    "stacked_fig.show()\n",
    "\n",
    "# Success rate heatmap\n",
    "heatmap_fig = visualizer.success_rate_heatmap()\n",
    "heatmap_fig.show()\n",
    "\n",
    "# Error breakdown bar chart\n",
    "error_fig = visualizer.error_breakdown()\n",
    "error_fig.show()\n"
   ]
  },
  {
   "cell_type": "code",
   "execution_count": 19,
   "metadata": {},
   "outputs": [
    {
     "ename": "FileNotFoundError",
     "evalue": "[Errno 2] No such file or directory: './all-24-11-05-17-50-43'",
     "output_type": "error",
     "traceback": [
      "\u001b[0;31m---------------------------------------------------------------------------\u001b[0m",
      "\u001b[0;31mFileNotFoundError\u001b[0m                         Traceback (most recent call last)",
      "Cell \u001b[0;32mIn[19], line 22\u001b[0m\n\u001b[1;32m     19\u001b[0m directory_path \u001b[38;5;241m=\u001b[39m \u001b[38;5;124m'\u001b[39m\u001b[38;5;124m./all-24-11-05-17-50-43\u001b[39m\u001b[38;5;124m'\u001b[39m  \u001b[38;5;66;03m# Change this to your actual directory path\u001b[39;00m\n\u001b[1;32m     21\u001b[0m \u001b[38;5;66;03m# Load the data\u001b[39;00m\n\u001b[0;32m---> 22\u001b[0m \u001b[43mload_all_json_from_directory\u001b[49m\u001b[43m(\u001b[49m\u001b[43mdirectory_path\u001b[49m\u001b[43m)\u001b[49m\n\u001b[1;32m     24\u001b[0m \u001b[38;5;66;03m# Generate and display example visualizations\u001b[39;00m\n\u001b[1;32m     25\u001b[0m \u001b[38;5;66;03m# You can comment/uncomment the figures you wish to generate\u001b[39;00m\n\u001b[1;32m     26\u001b[0m \n\u001b[1;32m     27\u001b[0m \u001b[38;5;66;03m# Violin plot for 'totalTransferTime'\u001b[39;00m\n\u001b[1;32m     28\u001b[0m violin_fig \u001b[38;5;241m=\u001b[39m visualizer\u001b[38;5;241m.\u001b[39mviolin_plot(\u001b[38;5;124m'\u001b[39m\u001b[38;5;124mtotalTransferTime\u001b[39m\u001b[38;5;124m'\u001b[39m)\n",
      "Cell \u001b[0;32mIn[19], line 15\u001b[0m, in \u001b[0;36mload_all_json_from_directory\u001b[0;34m(directory_path)\u001b[0m\n\u001b[1;32m     13\u001b[0m \u001b[38;5;28;01mdef\u001b[39;00m \u001b[38;5;21mload_all_json_from_directory\u001b[39m(directory_path: \u001b[38;5;28mstr\u001b[39m) \u001b[38;5;241m-\u001b[39m\u001b[38;5;241m>\u001b[39m \u001b[38;5;28;01mNone\u001b[39;00m:\n\u001b[1;32m     14\u001b[0m \u001b[38;5;250m    \u001b[39m\u001b[38;5;124;03m\"\"\"Load all JSON files from the specified directory and load them into the visualizer.\"\"\"\u001b[39;00m\n\u001b[0;32m---> 15\u001b[0m     file_paths \u001b[38;5;241m=\u001b[39m [os\u001b[38;5;241m.\u001b[39mpath\u001b[38;5;241m.\u001b[39mjoin(directory_path, f) \u001b[38;5;28;01mfor\u001b[39;00m f \u001b[38;5;129;01min\u001b[39;00m \u001b[43mos\u001b[49m\u001b[38;5;241;43m.\u001b[39;49m\u001b[43mlistdir\u001b[49m\u001b[43m(\u001b[49m\u001b[43mdirectory_path\u001b[49m\u001b[43m)\u001b[49m \u001b[38;5;28;01mif\u001b[39;00m f\u001b[38;5;241m.\u001b[39mendswith(\u001b[38;5;124m'\u001b[39m\u001b[38;5;124m.json\u001b[39m\u001b[38;5;124m'\u001b[39m)]\n\u001b[1;32m     16\u001b[0m     visualizer\u001b[38;5;241m.\u001b[39mload_data(file_paths)\n",
      "\u001b[0;31mFileNotFoundError\u001b[0m: [Errno 2] No such file or directory: './all-24-11-05-17-50-43'"
     ]
    }
   ],
   "source": [
    "import os\n",
    "import json\n",
    "import pandas as pd\n",
    "import numpy as np\n",
    "import plotly.express as px\n",
    "import plotly.graph_objects as go\n",
    "from typing import List\n",
    "\n",
    "# Initialize the visualizer\n",
    "visualizer = NetworkAnalysisVisualizer()\n",
    "\n",
    "# Function to load JSON files from a specified directory and load into the visualizer\n",
    "def load_all_json_from_directory(directory_path: str) -> None:\n",
    "    \"\"\"Load all JSON files from the specified directory and load them into the visualizer.\"\"\"\n",
    "    file_paths = [os.path.join(directory_path, f) for f in os.listdir(directory_path) if f.endswith('.json')]\n",
    "    visualizer.load_data(file_paths)\n",
    "\n",
    "# Specify the directory containing JSON files\n",
    "directory_path = './all-24-11-05-17-50-43'  # Change this to your actual directory path\n",
    "\n",
    "# Load the data\n",
    "load_all_json_from_directory(directory_path)\n",
    "\n",
    "# Generate and display example visualizations\n",
    "# You can comment/uncomment the figures you wish to generate\n",
    "\n",
    "# Violin plot for 'totalTransferTime'\n",
    "violin_fig = visualizer.violin_plot('totalTransferTime')\n",
    "violin_fig.show()\n",
    "\n",
    "# CDF plot for 'downloadSpeed'\n",
    "cdf_fig = visualizer.cdf_plot('downloadSpeed')\n",
    "cdf_fig.show()\n",
    "\n",
    "# Scatter plot with trendline for 'downloadSpeed' vs 'fileSize'\n",
    "scatter_fig = visualizer.scatter_with_trendline('downloadSpeed')\n",
    "scatter_fig.show()\n",
    "\n",
    "# Box plot by file size bins for 'dnsLookup'\n",
    "box_fig = visualizer.box_plot_by_size('dnsLookup')\n",
    "box_fig.show()\n",
    "\n",
    "# Stacked time components bar chart\n",
    "stacked_fig = visualizer.stacked_time_components()\n",
    "stacked_fig.show()\n",
    "\n",
    "# Success rate heatmap\n",
    "heatmap_fig = visualizer.success_rate_heatmap()\n",
    "heatmap_fig.show()\n",
    "\n",
    "# Error breakdown bar chart\n",
    "error_fig = visualizer.error_breakdown()\n",
    "error_fig.show()\n",
    "\n",
    "# New method to handle duplicate bin edges\n",
    "def box_plot_by_size(self, metric: str, size_bins=5, filter_mode='all') -> go.Figure:\n",
    "    \"\"\"Create box plots grouped by file size bins.\"\"\"\n",
    "    df = self._prepare_transfer_df(filter_mode)\n",
    "    df['size_group'] = pd.qcut(df['fileSize'], q=size_bins, labels=[f'Q{i+1}' for i in range(size_bins)], duplicates='drop')\n",
    "    \n",
    "    fig = go.Figure()\n",
    "    \n",
    "    for idx, tool in enumerate(df['tool'].unique()):\n",
    "        tool_df = df[df['tool'] == tool]\n",
    "        \n",
    "        fig.add_trace(go.Box(\n",
    "            x=tool_df['size_group'],\n",
    "            y=tool_df[metric],\n",
    "            name=tool,\n",
    "            marker_color=self.colors[idx]\n",
    "        ))\n",
    "    \n",
    "    fig.update_layout(\n",
    "        title=f'{metric} Distribution by File Size Quantiles',\n",
    "        xaxis_title='File Size Group',\n",
    "        yaxis_title=metric,\n",
    "        boxmode='group'\n",
    "    )\n",
    "    return fig\n",
    "\n",
    "# New method to plot partial successes, only successes, and full failures\n",
    "def plot_transfer_outcomes(self) -> go.Figure:\n",
    "    \"\"\"Create a bar chart showing the count of partial successes, only successes, and full failures.\"\"\"\n",
    "    df = self._prepare_transfer_df('all')\n",
    "    df['outcome'] = df.apply(lambda row: 'Success' if row['transferSuccess'] and row['hashMatch'] and row['sizeMatch'] else ('Partial Success' if row['transferSuccess'] else 'Failure'), axis=1)\n",
    "    \n",
    "    outcome_counts = df.groupby(['tool', 'outcome']).size().unstack(fill_value=0)\n",
    "    \n",
    "    fig = go.Figure()\n",
    "    \n",
    "    for outcome in outcome_counts.columns:\n",
    "        fig.add_trace(go.Bar(\n",
    "            name=outcome,\n",
    "            x=outcome_counts.index,\n",
    "            y=outcome_counts[outcome],\n",
    "            marker_color=self.colors[outcome_counts.columns.get_loc(outcome)]\n",
    "        ))\n",
    "    \n",
    "    fig.update_layout(\n",
    "        title='Transfer Outcomes by Tool',\n",
    "        xaxis_title='Tool',\n",
    "        yaxis_title='Count',\n",
    "        barmode='stack'\n",
    "    )\n",
    "    return fig\n",
    "\n",
    "# Example usage of the new method\n",
    "outcome_fig = visualizer.plot_transfer_outcomes()\n",
    "outcome_fig.show()"
   ]
  },
  {
   "cell_type": "code",
   "execution_count": 13,
   "metadata": {},
   "outputs": [
    {
     "ename": "KeyError",
     "evalue": "\"'measurementNumber' column is missing from the DataFrame.\"",
     "output_type": "error",
     "traceback": [
      "\u001b[0;31m---------------------------------------------------------------------------\u001b[0m",
      "\u001b[0;31mKeyError\u001b[0m                                  Traceback (most recent call last)",
      "Cell \u001b[0;32mIn[13], line 1\u001b[0m\n\u001b[0;32m----> 1\u001b[0m transfer_time_fig \u001b[38;5;241m=\u001b[39m \u001b[43mvisualizer\u001b[49m\u001b[38;5;241;43m.\u001b[39;49m\u001b[43mbox_plot_transfer_time\u001b[49m\u001b[43m(\u001b[49m\u001b[43m)\u001b[49m\n\u001b[1;32m      2\u001b[0m transfer_time_fig\u001b[38;5;241m.\u001b[39mshow()\n",
      "Cell \u001b[0;32mIn[12], line 149\u001b[0m, in \u001b[0;36mNetworkAnalysisVisualizer.box_plot_transfer_time\u001b[0;34m(self, filter_mode)\u001b[0m\n\u001b[1;32m    147\u001b[0m \u001b[38;5;66;03m# Ensure 'measurementNumber' is in the DataFrame\u001b[39;00m\n\u001b[1;32m    148\u001b[0m \u001b[38;5;28;01mif\u001b[39;00m \u001b[38;5;124m'\u001b[39m\u001b[38;5;124mmeasurementNumber\u001b[39m\u001b[38;5;124m'\u001b[39m \u001b[38;5;129;01mnot\u001b[39;00m \u001b[38;5;129;01min\u001b[39;00m df\u001b[38;5;241m.\u001b[39mcolumns:\n\u001b[0;32m--> 149\u001b[0m     \u001b[38;5;28;01mraise\u001b[39;00m \u001b[38;5;167;01mKeyError\u001b[39;00m(\u001b[38;5;124m\"\u001b[39m\u001b[38;5;124m'\u001b[39m\u001b[38;5;124mmeasurementNumber\u001b[39m\u001b[38;5;124m'\u001b[39m\u001b[38;5;124m column is missing from the DataFrame.\u001b[39m\u001b[38;5;124m\"\u001b[39m)\n\u001b[1;32m    151\u001b[0m fig \u001b[38;5;241m=\u001b[39m go\u001b[38;5;241m.\u001b[39mFigure()\n\u001b[1;32m    153\u001b[0m \u001b[38;5;28;01mfor\u001b[39;00m idx, tool \u001b[38;5;129;01min\u001b[39;00m \u001b[38;5;28menumerate\u001b[39m(df[\u001b[38;5;124m'\u001b[39m\u001b[38;5;124mtool\u001b[39m\u001b[38;5;124m'\u001b[39m]\u001b[38;5;241m.\u001b[39munique()):\n",
      "\u001b[0;31mKeyError\u001b[0m: \"'measurementNumber' column is missing from the DataFrame.\""
     ]
    }
   ],
   "source": [
    "transfer_time_fig = visualizer.box_plot_transfer_time()\n",
    "transfer_time_fig.show()"
   ]
  }
 ],
 "metadata": {
  "kernelspec": {
   "display_name": "Python 3",
   "language": "python",
   "name": "python3"
  },
  "language_info": {
   "codemirror_mode": {
    "name": "ipython",
    "version": 3
   },
   "file_extension": ".py",
   "mimetype": "text/x-python",
   "name": "python",
   "nbconvert_exporter": "python",
   "pygments_lexer": "ipython3",
   "version": "3.11.0"
  }
 },
 "nbformat": 4,
 "nbformat_minor": 2
}
