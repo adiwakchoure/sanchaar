{
 "cells": [
  {
   "cell_type": "code",
   "execution_count": 1,
   "metadata": {},
   "outputs": [
    {
     "ename": "KeyError",
     "evalue": "'1MB_buffer'",
     "output_type": "error",
     "traceback": [
      "\u001b[0;31m---------------------------------------------------------------------------\u001b[0m",
      "\u001b[0;31mKeyError\u001b[0m                                  Traceback (most recent call last)",
      "Cell \u001b[0;32mIn[1], line 59\u001b[0m\n\u001b[1;32m     56\u001b[0m     \u001b[38;5;28mprint\u001b[39m(\u001b[38;5;124mf\u001b[39m\u001b[38;5;124m\"\u001b[39m\u001b[38;5;124mCSV file created: \u001b[39m\u001b[38;5;132;01m{\u001b[39;00mcsv_output\u001b[38;5;132;01m}\u001b[39;00m\u001b[38;5;124m\"\u001b[39m)\n\u001b[1;32m     58\u001b[0m \u001b[38;5;28;01mif\u001b[39;00m \u001b[38;5;18m__name__\u001b[39m \u001b[38;5;241m==\u001b[39m \u001b[38;5;124m\"\u001b[39m\u001b[38;5;124m__main__\u001b[39m\u001b[38;5;124m\"\u001b[39m:\n\u001b[0;32m---> 59\u001b[0m     \u001b[43mmain\u001b[49m\u001b[43m(\u001b[49m\u001b[43m)\u001b[49m\n",
      "Cell \u001b[0;32mIn[1], line 52\u001b[0m, in \u001b[0;36mmain\u001b[0;34m()\u001b[0m\n\u001b[1;32m     50\u001b[0m \u001b[38;5;28;01mdef\u001b[39;00m \u001b[38;5;21mmain\u001b[39m():\n\u001b[1;32m     51\u001b[0m     directory \u001b[38;5;241m=\u001b[39m \u001b[38;5;28minput\u001b[39m(\u001b[38;5;124m\"\u001b[39m\u001b[38;5;124mEnter the directory path containing JSON files: \u001b[39m\u001b[38;5;124m\"\u001b[39m)\n\u001b[0;32m---> 52\u001b[0m     results \u001b[38;5;241m=\u001b[39m \u001b[43mprocess_directory\u001b[49m\u001b[43m(\u001b[49m\u001b[43mdirectory\u001b[49m\u001b[43m)\u001b[49m\n\u001b[1;32m     54\u001b[0m     csv_output \u001b[38;5;241m=\u001b[39m os\u001b[38;5;241m.\u001b[39mpath\u001b[38;5;241m.\u001b[39mjoin(directory, \u001b[38;5;124m'\u001b[39m\u001b[38;5;124mnetwork_measurements.csv\u001b[39m\u001b[38;5;124m'\u001b[39m)\n\u001b[1;32m     55\u001b[0m     create_csv(results, csv_output)\n",
      "Cell \u001b[0;32mIn[1], line 38\u001b[0m, in \u001b[0;36mprocess_directory\u001b[0;34m(directory)\u001b[0m\n\u001b[1;32m     36\u001b[0m     \u001b[38;5;28;01mif\u001b[39;00m filename\u001b[38;5;241m.\u001b[39mendswith(\u001b[38;5;124m'\u001b[39m\u001b[38;5;124m.json\u001b[39m\u001b[38;5;124m'\u001b[39m):\n\u001b[1;32m     37\u001b[0m         file_path \u001b[38;5;241m=\u001b[39m os\u001b[38;5;241m.\u001b[39mpath\u001b[38;5;241m.\u001b[39mjoin(directory, filename)\n\u001b[0;32m---> 38\u001b[0m         results\u001b[38;5;241m.\u001b[39mappend(\u001b[43mprocess_json_file\u001b[49m\u001b[43m(\u001b[49m\u001b[43mfile_path\u001b[49m\u001b[43m)\u001b[49m)\n\u001b[1;32m     39\u001b[0m \u001b[38;5;28;01mreturn\u001b[39;00m results\n",
      "Cell \u001b[0;32mIn[1], line 18\u001b[0m, in \u001b[0;36mprocess_json_file\u001b[0;34m(file_path)\u001b[0m\n\u001b[1;32m     14\u001b[0m avg_measurement_duration \u001b[38;5;241m=\u001b[39m durations[\u001b[38;5;124m'\u001b[39m\u001b[38;5;124mmeasurements\u001b[39m\u001b[38;5;124m'\u001b[39m][\u001b[38;5;124m'\u001b[39m\u001b[38;5;124maverage\u001b[39m\u001b[38;5;124m'\u001b[39m][\u001b[38;5;124m'\u001b[39m\u001b[38;5;124mduration\u001b[39m\u001b[38;5;124m'\u001b[39m]\n\u001b[1;32m     16\u001b[0m measurements \u001b[38;5;241m=\u001b[39m data[\u001b[38;5;124m'\u001b[39m\u001b[38;5;124mmeasurements\u001b[39m\u001b[38;5;124m'\u001b[39m]\n\u001b[1;32m     17\u001b[0m avg_speeds \u001b[38;5;241m=\u001b[39m {\n\u001b[0;32m---> 18\u001b[0m     \u001b[38;5;124m'\u001b[39m\u001b[38;5;124m1MB\u001b[39m\u001b[38;5;124m'\u001b[39m: \u001b[38;5;28;43msum\u001b[39;49m\u001b[43m(\u001b[49m\u001b[43mm\u001b[49m\u001b[43m[\u001b[49m\u001b[38;5;124;43m'\u001b[39;49m\u001b[38;5;124;43mfileTransfers\u001b[39;49m\u001b[38;5;124;43m'\u001b[39;49m\u001b[43m]\u001b[49m\u001b[43m[\u001b[49m\u001b[38;5;124;43m'\u001b[39;49m\u001b[38;5;124;43m1MB_buffer\u001b[39;49m\u001b[38;5;124;43m'\u001b[39;49m\u001b[43m]\u001b[49m\u001b[43m[\u001b[49m\u001b[38;5;124;43m'\u001b[39;49m\u001b[38;5;124;43mspeedDownload\u001b[39;49m\u001b[38;5;124;43m'\u001b[39;49m\u001b[43m]\u001b[49m\u001b[43m \u001b[49m\u001b[38;5;28;43;01mfor\u001b[39;49;00m\u001b[43m \u001b[49m\u001b[43mm\u001b[49m\u001b[43m \u001b[49m\u001b[38;5;129;43;01min\u001b[39;49;00m\u001b[43m \u001b[49m\u001b[43mmeasurements\u001b[49m\u001b[43m)\u001b[49m \u001b[38;5;241m/\u001b[39m \u001b[38;5;28mlen\u001b[39m(measurements),\n\u001b[1;32m     19\u001b[0m     \u001b[38;5;124m'\u001b[39m\u001b[38;5;124m2MB\u001b[39m\u001b[38;5;124m'\u001b[39m: \u001b[38;5;28msum\u001b[39m(m[\u001b[38;5;124m'\u001b[39m\u001b[38;5;124mfileTransfers\u001b[39m\u001b[38;5;124m'\u001b[39m][\u001b[38;5;124m'\u001b[39m\u001b[38;5;124m2MB_buffer\u001b[39m\u001b[38;5;124m'\u001b[39m][\u001b[38;5;124m'\u001b[39m\u001b[38;5;124mspeedDownload\u001b[39m\u001b[38;5;124m'\u001b[39m] \u001b[38;5;28;01mfor\u001b[39;00m m \u001b[38;5;129;01min\u001b[39;00m measurements) \u001b[38;5;241m/\u001b[39m \u001b[38;5;28mlen\u001b[39m(measurements),\n\u001b[1;32m     20\u001b[0m     \u001b[38;5;124m'\u001b[39m\u001b[38;5;124m3MB\u001b[39m\u001b[38;5;124m'\u001b[39m: \u001b[38;5;28msum\u001b[39m(m[\u001b[38;5;124m'\u001b[39m\u001b[38;5;124mfileTransfers\u001b[39m\u001b[38;5;124m'\u001b[39m][\u001b[38;5;124m'\u001b[39m\u001b[38;5;124m3MB_buffer\u001b[39m\u001b[38;5;124m'\u001b[39m][\u001b[38;5;124m'\u001b[39m\u001b[38;5;124mspeedDownload\u001b[39m\u001b[38;5;124m'\u001b[39m] \u001b[38;5;28;01mfor\u001b[39;00m m \u001b[38;5;129;01min\u001b[39;00m measurements) \u001b[38;5;241m/\u001b[39m \u001b[38;5;28mlen\u001b[39m(measurements)\n\u001b[1;32m     21\u001b[0m }\n\u001b[1;32m     23\u001b[0m \u001b[38;5;28;01mreturn\u001b[39;00m {\n\u001b[1;32m     24\u001b[0m     \u001b[38;5;124m'\u001b[39m\u001b[38;5;124mTool\u001b[39m\u001b[38;5;124m'\u001b[39m: tool_name,\n\u001b[1;32m     25\u001b[0m     \u001b[38;5;124m'\u001b[39m\u001b[38;5;124mTotal Duration\u001b[39m\u001b[38;5;124m'\u001b[39m: total_duration,\n\u001b[0;32m   (...)\u001b[0m\n\u001b[1;32m     30\u001b[0m     \u001b[38;5;124m'\u001b[39m\u001b[38;5;124m3MB Avg Speed\u001b[39m\u001b[38;5;124m'\u001b[39m: avg_speeds[\u001b[38;5;124m'\u001b[39m\u001b[38;5;124m3MB\u001b[39m\u001b[38;5;124m'\u001b[39m]\n\u001b[1;32m     31\u001b[0m }\n",
      "Cell \u001b[0;32mIn[1], line 18\u001b[0m, in \u001b[0;36m<genexpr>\u001b[0;34m(.0)\u001b[0m\n\u001b[1;32m     14\u001b[0m avg_measurement_duration \u001b[38;5;241m=\u001b[39m durations[\u001b[38;5;124m'\u001b[39m\u001b[38;5;124mmeasurements\u001b[39m\u001b[38;5;124m'\u001b[39m][\u001b[38;5;124m'\u001b[39m\u001b[38;5;124maverage\u001b[39m\u001b[38;5;124m'\u001b[39m][\u001b[38;5;124m'\u001b[39m\u001b[38;5;124mduration\u001b[39m\u001b[38;5;124m'\u001b[39m]\n\u001b[1;32m     16\u001b[0m measurements \u001b[38;5;241m=\u001b[39m data[\u001b[38;5;124m'\u001b[39m\u001b[38;5;124mmeasurements\u001b[39m\u001b[38;5;124m'\u001b[39m]\n\u001b[1;32m     17\u001b[0m avg_speeds \u001b[38;5;241m=\u001b[39m {\n\u001b[0;32m---> 18\u001b[0m     \u001b[38;5;124m'\u001b[39m\u001b[38;5;124m1MB\u001b[39m\u001b[38;5;124m'\u001b[39m: \u001b[38;5;28msum\u001b[39m(\u001b[43mm\u001b[49m\u001b[43m[\u001b[49m\u001b[38;5;124;43m'\u001b[39;49m\u001b[38;5;124;43mfileTransfers\u001b[39;49m\u001b[38;5;124;43m'\u001b[39;49m\u001b[43m]\u001b[49m\u001b[43m[\u001b[49m\u001b[38;5;124;43m'\u001b[39;49m\u001b[38;5;124;43m1MB_buffer\u001b[39;49m\u001b[38;5;124;43m'\u001b[39;49m\u001b[43m]\u001b[49m[\u001b[38;5;124m'\u001b[39m\u001b[38;5;124mspeedDownload\u001b[39m\u001b[38;5;124m'\u001b[39m] \u001b[38;5;28;01mfor\u001b[39;00m m \u001b[38;5;129;01min\u001b[39;00m measurements) \u001b[38;5;241m/\u001b[39m \u001b[38;5;28mlen\u001b[39m(measurements),\n\u001b[1;32m     19\u001b[0m     \u001b[38;5;124m'\u001b[39m\u001b[38;5;124m2MB\u001b[39m\u001b[38;5;124m'\u001b[39m: \u001b[38;5;28msum\u001b[39m(m[\u001b[38;5;124m'\u001b[39m\u001b[38;5;124mfileTransfers\u001b[39m\u001b[38;5;124m'\u001b[39m][\u001b[38;5;124m'\u001b[39m\u001b[38;5;124m2MB_buffer\u001b[39m\u001b[38;5;124m'\u001b[39m][\u001b[38;5;124m'\u001b[39m\u001b[38;5;124mspeedDownload\u001b[39m\u001b[38;5;124m'\u001b[39m] \u001b[38;5;28;01mfor\u001b[39;00m m \u001b[38;5;129;01min\u001b[39;00m measurements) \u001b[38;5;241m/\u001b[39m \u001b[38;5;28mlen\u001b[39m(measurements),\n\u001b[1;32m     20\u001b[0m     \u001b[38;5;124m'\u001b[39m\u001b[38;5;124m3MB\u001b[39m\u001b[38;5;124m'\u001b[39m: \u001b[38;5;28msum\u001b[39m(m[\u001b[38;5;124m'\u001b[39m\u001b[38;5;124mfileTransfers\u001b[39m\u001b[38;5;124m'\u001b[39m][\u001b[38;5;124m'\u001b[39m\u001b[38;5;124m3MB_buffer\u001b[39m\u001b[38;5;124m'\u001b[39m][\u001b[38;5;124m'\u001b[39m\u001b[38;5;124mspeedDownload\u001b[39m\u001b[38;5;124m'\u001b[39m] \u001b[38;5;28;01mfor\u001b[39;00m m \u001b[38;5;129;01min\u001b[39;00m measurements) \u001b[38;5;241m/\u001b[39m \u001b[38;5;28mlen\u001b[39m(measurements)\n\u001b[1;32m     21\u001b[0m }\n\u001b[1;32m     23\u001b[0m \u001b[38;5;28;01mreturn\u001b[39;00m {\n\u001b[1;32m     24\u001b[0m     \u001b[38;5;124m'\u001b[39m\u001b[38;5;124mTool\u001b[39m\u001b[38;5;124m'\u001b[39m: tool_name,\n\u001b[1;32m     25\u001b[0m     \u001b[38;5;124m'\u001b[39m\u001b[38;5;124mTotal Duration\u001b[39m\u001b[38;5;124m'\u001b[39m: total_duration,\n\u001b[0;32m   (...)\u001b[0m\n\u001b[1;32m     30\u001b[0m     \u001b[38;5;124m'\u001b[39m\u001b[38;5;124m3MB Avg Speed\u001b[39m\u001b[38;5;124m'\u001b[39m: avg_speeds[\u001b[38;5;124m'\u001b[39m\u001b[38;5;124m3MB\u001b[39m\u001b[38;5;124m'\u001b[39m]\n\u001b[1;32m     31\u001b[0m }\n",
      "\u001b[0;31mKeyError\u001b[0m: '1MB_buffer'"
     ]
    }
   ],
   "source": [
    "import os\n",
    "import json\n",
    "import csv\n",
    "\n",
    "def process_json_file(file_path):\n",
    "    with open(file_path, 'r') as f:\n",
    "        data = json.load(f)\n",
    "    \n",
    "    tool_name = os.path.splitext(os.path.basename(file_path))[0]\n",
    "    \n",
    "    durations = data['durations']\n",
    "    total_duration = durations['total']['duration']\n",
    "    setup_duration = durations['toolSetup']['duration']\n",
    "    avg_measurement_duration = durations['measurements']['average']['duration']\n",
    "    \n",
    "    measurements = data['measurements']\n",
    "    avg_speeds = {\n",
    "        '1MB': sum(m['fileTransfers']['1MB_buffer']['speedDownload'] for m in measurements) / len(measurements),\n",
    "        '2MB': sum(m['fileTransfers']['2MB_buffer']['speedDownload'] for m in measurements) / len(measurements),\n",
    "        '3MB': sum(m['fileTransfers']['3MB_buffer']['speedDownload'] for m in measurements) / len(measurements)\n",
    "    }\n",
    "    \n",
    "    return {\n",
    "        'Tool': tool_name,\n",
    "        'Total Duration': total_duration,\n",
    "        'Setup Duration': setup_duration,\n",
    "        'Avg Measurement Duration': avg_measurement_duration,\n",
    "        '1MB Avg Speed': avg_speeds['1MB'],\n",
    "        '2MB Avg Speed': avg_speeds['2MB'],\n",
    "        '3MB Avg Speed': avg_speeds['3MB']\n",
    "    }\n",
    "\n",
    "def process_directory(directory):\n",
    "    results = []\n",
    "    for filename in os.listdir(directory):\n",
    "        if filename.endswith('.json'):\n",
    "            file_path = os.path.join(directory, filename)\n",
    "            results.append(process_json_file(file_path))\n",
    "    return results\n",
    "\n",
    "def create_csv(results, output_file):\n",
    "    fieldnames = ['Tool', 'Total Duration', 'Setup Duration', 'Avg Measurement Duration', \n",
    "                  '1MB Avg Speed', '2MB Avg Speed', '3MB Avg Speed']\n",
    "    with open(output_file, 'w', newline='') as csvfile:\n",
    "        writer = csv.DictWriter(csvfile, fieldnames=fieldnames)\n",
    "        writer.writeheader()\n",
    "        for row in results:\n",
    "            writer.writerow(row)\n",
    "\n",
    "def main():\n",
    "    directory = input(\"Enter the directory path containing JSON files: \")\n",
    "    results = process_directory(directory)\n",
    "    \n",
    "    csv_output = os.path.join(directory, 'network_measurements.csv')\n",
    "    create_csv(results, csv_output)\n",
    "    print(f\"CSV file created: {csv_output}\")\n",
    "\n",
    "if __name__ == \"__main__\":\n",
    "    main()"
   ]
  }
 ],
 "metadata": {
  "kernelspec": {
   "display_name": "Python 3",
   "language": "python",
   "name": "python3"
  },
  "language_info": {
   "codemirror_mode": {
    "name": "ipython",
    "version": 3
   },
   "file_extension": ".py",
   "mimetype": "text/x-python",
   "name": "python",
   "nbconvert_exporter": "python",
   "pygments_lexer": "ipython3",
   "version": "3.10.12"
  }
 },
 "nbformat": 4,
 "nbformat_minor": 2
}
